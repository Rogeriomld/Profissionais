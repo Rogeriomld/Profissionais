{
 "cells": [
  {
   "cell_type": "code",
   "execution_count": 1,
   "metadata": {},
   "outputs": [],
   "source": [
    "import pandas as pd \n",
    "import numpy as np"
   ]
  },
  {
   "cell_type": "code",
   "execution_count": 2,
   "metadata": {},
   "outputs": [
    {
     "name": "stdout",
     "output_type": "stream",
     "text": [
      "                       Nome           Especialidade  Quantidade1  Quantidade2  \\\n",
      "0    ABIGAIL FERREIRA PIRES              ENFERMEIRO          162          162   \n",
      "1     ADRIANA DA SILVA REIS              ENFERMEIRO          138          137   \n",
      "2  AGDA MAYRA SILVA MARTINS              ENFERMEIRO          105          105   \n",
      "3    ALEX BONANCIM CALAZANS  AUXILIAR DE ESCRITÓRIO           56           56   \n",
      "4    ALEX GONCALVES DE LIMA              ENFERMEIRO            9            9   \n",
      "\n",
      "           Tempo  \n",
      "0  09h:43min:32s  \n",
      "1  10h:27min:28s  \n",
      "2  05h:35min:24s  \n",
      "3  01h:26min:56s  \n",
      "4      36min:53s  \n"
     ]
    }
   ],
   "source": [
    "import pandas as pd\n",
    "import re\n",
    "\n",
    "# Abrir o arquivo inteiro como texto\n",
    "with open('Relatorio_Atendimento_dos_Profissionais_janeiro.csv', encoding='latin1') as f:\n",
    "    linhas = f.readlines()\n",
    "\n",
    "# Lista para armazenar os dados extraídos\n",
    "dados_profissionais = []\n",
    "\n",
    "# Padrão regex para identificar as linhas dos profissionais\n",
    "# Exemplo: \"JOHN RUDY HUALLPA VILA;MÉDICO CLÍNICO;858;703;04d, 13h:44min:41s;;;;\"\n",
    "# A ideia é que tenha um nome (texto), seguido de especialidade (texto), seguido de números e o tempo\n",
    "padrao = re.compile(r'^([^;]+);([^;]+);(\\d+);(\\d+);([^;]+);{0,4}$')\n",
    "\n",
    "for linha in linhas:\n",
    "    linha = linha.strip()\n",
    "    m = padrao.match(linha)\n",
    "    if m:\n",
    "        nome = m.group(1).strip()\n",
    "        especialidade = m.group(2).strip()\n",
    "        qtd1 = int(m.group(3))\n",
    "        qtd2 = int(m.group(4))\n",
    "        tempo = m.group(5).strip()\n",
    "        \n",
    "        dados_profissionais.append({\n",
    "            'Nome': nome,\n",
    "            'Especialidade': especialidade,\n",
    "            'Quantidade1': qtd1,\n",
    "            'Quantidade2': qtd2,\n",
    "            'Tempo': tempo\n",
    "        })\n",
    "\n",
    "# Criar DataFrame\n",
    "df_profissionais = pd.DataFrame(dados_profissionais)\n",
    "\n",
    "# Exibir as primeiras linhas\n",
    "print(df_profissionais.head())\n",
    "\n",
    "# Salvar em CSV para você analisar\n",
    "df_profissionais.to_csv('profissionais_extraidos.csv', index=False, encoding='latin1')\n"
   ]
  },
  {
   "cell_type": "code",
   "execution_count": 3,
   "metadata": {},
   "outputs": [
    {
     "data": {
      "application/vnd.microsoft.datawrangler.viewer.v0+json": {
       "columns": [
        {
         "name": "index",
         "rawType": "int64",
         "type": "integer"
        },
        {
         "name": "Nome",
         "rawType": "object",
         "type": "string"
        },
        {
         "name": "Especialidade",
         "rawType": "object",
         "type": "string"
        },
        {
         "name": "Quantidade1",
         "rawType": "int64",
         "type": "integer"
        },
        {
         "name": "Quantidade2",
         "rawType": "int64",
         "type": "integer"
        },
        {
         "name": "Tempo",
         "rawType": "object",
         "type": "string"
        }
       ],
       "conversionMethod": "pd.DataFrame",
       "ref": "b197b992-4dd4-4a09-8113-1e14fbdfe995",
       "rows": [
        [
         "0",
         "ABIGAIL FERREIRA PIRES",
         "ENFERMEIRO",
         "162",
         "162",
         "09h:43min:32s"
        ],
        [
         "1",
         "ADRIANA DA SILVA REIS",
         "ENFERMEIRO",
         "138",
         "137",
         "10h:27min:28s"
        ],
        [
         "2",
         "AGDA MAYRA SILVA MARTINS",
         "ENFERMEIRO",
         "105",
         "105",
         "05h:35min:24s"
        ],
        [
         "3",
         "ALEX BONANCIM CALAZANS",
         "AUXILIAR DE ESCRITÓRIO",
         "56",
         "56",
         "01h:26min:56s"
        ],
        [
         "4",
         "ALEX GONCALVES DE LIMA",
         "ENFERMEIRO",
         "9",
         "9",
         "36min:53s"
        ],
        [
         "5",
         "ALEXANDRE MOURA OLIVEIRA",
         "MÉDICO CIRURGIÃO GERAL",
         "257",
         "244",
         "21h:39min:50s"
        ],
        [
         "6",
         "ALEXIA CUNHA CHINELLATTO",
         "ASSISTENTE ADMINISTRATIVO",
         "313",
         "309",
         "09h:43min:34s"
        ],
        [
         "7",
         "ALINE VANZELLI LOPES",
         "ENFERMEIRO",
         "35",
         "35",
         "02h:11min:22s"
        ],
        [
         "8",
         "ANA MARIA LORONO TERRAZAS",
         "MÉDICO PEDIATRA",
         "201",
         "193",
         "01d, 04h:43min:08s"
        ],
        [
         "9",
         "ANA PAULA DA SILVA CAVALCANTE",
         "ENFERMEIRO",
         "402",
         "402",
         "16h:57min:26s"
        ],
        [
         "10",
         "ANA PAULA PESSOA",
         "ENFERMEIRO",
         "38",
         "38",
         "02h:02min:34s"
        ],
        [
         "11",
         "ANDERSON CESAR PARTATA",
         "MÉDICO ORTOPEDISTA E TRAUMATOLOGISTA",
         "105",
         "105",
         "09h:56min:29s"
        ],
        [
         "12",
         "ANDERSON DABRAMO",
         "MÉDICO CLÍNICO",
         "7",
         "6",
         "01h:15min:06s"
        ],
        [
         "13",
         "ANDERSON KAIO BENTO GIL",
         "MÉDICO CIRURGIÃO GERAL",
         "116",
         "116",
         "14h:51min:28s"
        ],
        [
         "14",
         "ANDREIA STEFANIA CARVALHO DE DEUS",
         "MÉDICO PEDIATRA",
         "55",
         "34",
         "10h:56min:30s"
        ],
        [
         "15",
         "ANGELA CRISSIELA MELO OST",
         "MÉDICO PEDIATRA",
         "9",
         "9",
         "48min:28s"
        ],
        [
         "16",
         "ANGELICA GONCALVES SILVERIO TEIXEIRA",
         "ENFERMEIRO",
         "5",
         "5",
         "18min:14s"
        ],
        [
         "17",
         "ANGELICA JOVINO TORRES",
         "ENFERMEIRO",
         "421",
         "421",
         "01d, 04h:54min:26s"
        ],
        [
         "18",
         "ANNANDA SOBRAL ARRAES",
         "ENFERMEIRO",
         "46",
         "46",
         "02h:23min:15s"
        ],
        [
         "19",
         "ANNIELI VIEIRA ALMEIDA",
         "ASSISTENTE ADMINISTRATIVO",
         "1203",
         "1187",
         "09d, 09h:09min:07s"
        ],
        [
         "20",
         "ANTONIO CHARLE DE OLIVEIRA TEIXEIRA",
         "ENFERMEIRO",
         "63",
         "63",
         "03h:54min:47s"
        ],
        [
         "21",
         "ANTONIO EDUARDO CLEMENTE CIURANA FERNANDEZ",
         "MÉDICO PSIQUIATRA",
         "81",
         "66",
         "10h:21min:59s"
        ],
        [
         "22",
         "AULITERIO LIMA AGUIAR CORREIA",
         "MÉDICO PSIQUIATRA",
         "105",
         "88",
         "01d, 26min:59s"
        ],
        [
         "23",
         "BERNADETE FATIMA DE OLIVEIRA PINI",
         "ENFERMEIRO",
         "26",
         "26",
         "01h:46min:03s"
        ],
        [
         "24",
         "BIANCA TOMASSONE DOS SANTOS",
         "AUXILIAR DE ESCRITÓRIO",
         "9",
         "9",
         "01s"
        ],
        [
         "25",
         "BRUNA GIOVANA MORENO DA SILVA",
         "MÉDICO CIRURGIÃO GERAL",
         "1",
         "1",
         "09min:21s"
        ],
        [
         "26",
         "BRUNO NIZ DA SILVA",
         "ENFERMEIRO",
         "22",
         "22",
         "01h:24min:52s"
        ],
        [
         "27",
         "CAMILA RIBEIRO ROSSI",
         "ENFERMEIRO",
         "114",
         "114",
         "06h:38min:34s"
        ],
        [
         "28",
         "CARLOS ROBERTO DOS SANTOS",
         "MÉDICO CLÍNICO",
         "21",
         "18",
         "03h:39min:22s"
        ],
        [
         "29",
         "CAROLLINA CAPOROSSI",
         "MÉDICO CLÍNICO",
         "14",
         "12",
         "03h:27min:58s"
        ],
        [
         "30",
         "CECILIA DE FARIA SARDENBERG",
         "MÉDICO CLÍNICO",
         "4",
         "4",
         "42min:01s"
        ],
        [
         "31",
         "CEFORA JORGE DA CUNHA RIBEIRO",
         "MÉDICO PSIQUIATRA",
         "8",
         "7",
         "02h:32min:43s"
        ],
        [
         "32",
         "CHARLENE OLIVEIRA TRINDADE",
         "ENFERMEIRO",
         "590",
         "590",
         "21h:46min:41s"
        ],
        [
         "33",
         "CINTIA GOMES BORBA",
         "ASSISTENTE ADMINISTRATIVO",
         "109",
         "109",
         "02h:11min:40s"
        ],
        [
         "34",
         "CLEITON HENRIQUE EMERICK DE OLIVEIRA",
         "AUXILIAR DE ESCRITÓRIO",
         "1286",
         "1274",
         "84d, 18h:05min:43s"
        ],
        [
         "35",
         "CRISTIAN GONCALVES DE SOUZA",
         "ENFERMEIRO",
         "7",
         "7",
         "18min:39s"
        ],
        [
         "36",
         "CRISTIANE BEZERRA MARTINS",
         "ENFERMEIRO",
         "2",
         "2",
         "0s"
        ],
        [
         "37",
         "CRISTIANE MOREIRA CORTINHAS",
         "ENFERMEIRO",
         "48",
         "48",
         "01h:45min:12s"
        ],
        [
         "38",
         "CRISTINA BARBOSA DA SILVA",
         "ENFERMEIRO",
         "194",
         "194",
         "11h:39min:11s"
        ],
        [
         "39",
         "DANIEL RODRIGUES PEREIRA",
         "ENFERMEIRO",
         "420",
         "420",
         "01d, 01h:03min:37s"
        ],
        [
         "40",
         "DANIEL RODRIGUES PEREIRA",
         "MÉDICO CLÍNICO",
         "1",
         "1",
         "02min:46s"
        ],
        [
         "41",
         "DANIELA DE FREITAS MARQUES",
         "AUXILIAR DE ESCRITÓRIO",
         "119",
         "119",
         "08d, 10h:05min:54s"
        ],
        [
         "42",
         "DAYANA DA SILVA GONCALVES",
         "ENFERMEIRO",
         "1293",
         "1288",
         "01d, 22h:44min:20s"
        ],
        [
         "43",
         "DEANDRO DE MATOS COELHO",
         "MÉDICO PEDIATRA",
         "407",
         "375",
         "08d, 12h:04min:36s"
        ],
        [
         "44",
         "DENISE CAETANO FIGUEIREDO",
         "ENFERMEIRO",
         "78",
         "78",
         "05h:08min:12s"
        ],
        [
         "45",
         "DERBY NERY NETO",
         "MÉDICO CLÍNICO",
         "7",
         "4",
         "07h:32min:10s"
        ],
        [
         "46",
         "DIEGO OTAVIO SANTIAGO BARBOZA DA SILVA",
         "MÉDICO PSIQUIATRA",
         "22",
         "19",
         "01d, 55min:44s"
        ],
        [
         "47",
         "DIZZAN DALLAS DOS SANTOS BENTES",
         "MÉDICO CLÍNICO",
         "1001",
         "908",
         "05d, 18h:46min:11s"
        ],
        [
         "48",
         "EDER LUIS DOS SANTOS",
         "MÉDICO PEDIATRA",
         "144",
         "122",
         "02d, 11h:21min:33s"
        ],
        [
         "49",
         "EDGAR GUZMAN GUTIERREZ",
         "MÉDICO PEDIATRA",
         "102",
         "97",
         "08h:43min:58s"
        ]
       ],
       "shape": {
        "columns": 5,
        "rows": 244
       }
      },
      "text/html": [
       "<div>\n",
       "<style scoped>\n",
       "    .dataframe tbody tr th:only-of-type {\n",
       "        vertical-align: middle;\n",
       "    }\n",
       "\n",
       "    .dataframe tbody tr th {\n",
       "        vertical-align: top;\n",
       "    }\n",
       "\n",
       "    .dataframe thead th {\n",
       "        text-align: right;\n",
       "    }\n",
       "</style>\n",
       "<table border=\"1\" class=\"dataframe\">\n",
       "  <thead>\n",
       "    <tr style=\"text-align: right;\">\n",
       "      <th></th>\n",
       "      <th>Nome</th>\n",
       "      <th>Especialidade</th>\n",
       "      <th>Quantidade1</th>\n",
       "      <th>Quantidade2</th>\n",
       "      <th>Tempo</th>\n",
       "    </tr>\n",
       "  </thead>\n",
       "  <tbody>\n",
       "    <tr>\n",
       "      <th>0</th>\n",
       "      <td>ABIGAIL FERREIRA PIRES</td>\n",
       "      <td>ENFERMEIRO</td>\n",
       "      <td>162</td>\n",
       "      <td>162</td>\n",
       "      <td>09h:43min:32s</td>\n",
       "    </tr>\n",
       "    <tr>\n",
       "      <th>1</th>\n",
       "      <td>ADRIANA DA SILVA REIS</td>\n",
       "      <td>ENFERMEIRO</td>\n",
       "      <td>138</td>\n",
       "      <td>137</td>\n",
       "      <td>10h:27min:28s</td>\n",
       "    </tr>\n",
       "    <tr>\n",
       "      <th>2</th>\n",
       "      <td>AGDA MAYRA SILVA MARTINS</td>\n",
       "      <td>ENFERMEIRO</td>\n",
       "      <td>105</td>\n",
       "      <td>105</td>\n",
       "      <td>05h:35min:24s</td>\n",
       "    </tr>\n",
       "    <tr>\n",
       "      <th>3</th>\n",
       "      <td>ALEX BONANCIM CALAZANS</td>\n",
       "      <td>AUXILIAR DE ESCRITÓRIO</td>\n",
       "      <td>56</td>\n",
       "      <td>56</td>\n",
       "      <td>01h:26min:56s</td>\n",
       "    </tr>\n",
       "    <tr>\n",
       "      <th>4</th>\n",
       "      <td>ALEX GONCALVES DE LIMA</td>\n",
       "      <td>ENFERMEIRO</td>\n",
       "      <td>9</td>\n",
       "      <td>9</td>\n",
       "      <td>36min:53s</td>\n",
       "    </tr>\n",
       "    <tr>\n",
       "      <th>...</th>\n",
       "      <td>...</td>\n",
       "      <td>...</td>\n",
       "      <td>...</td>\n",
       "      <td>...</td>\n",
       "      <td>...</td>\n",
       "    </tr>\n",
       "    <tr>\n",
       "      <th>239</th>\n",
       "      <td>VIVIANY OLIVEIRA SIMAO</td>\n",
       "      <td>MÉDICO CLÍNICO</td>\n",
       "      <td>278</td>\n",
       "      <td>204</td>\n",
       "      <td>01d, 22h:11min:10s</td>\n",
       "    </tr>\n",
       "    <tr>\n",
       "      <th>240</th>\n",
       "      <td>VLADIMIR ILLANES SALAZAR</td>\n",
       "      <td>MÉDICO CLÍNICO</td>\n",
       "      <td>472</td>\n",
       "      <td>456</td>\n",
       "      <td>01d, 17h:51s</td>\n",
       "    </tr>\n",
       "    <tr>\n",
       "      <th>241</th>\n",
       "      <td>WENNDEL HENRIQUE DANTAS MELLO</td>\n",
       "      <td>MÉDICO CLÍNICO</td>\n",
       "      <td>1</td>\n",
       "      <td>1</td>\n",
       "      <td>09min:57s</td>\n",
       "    </tr>\n",
       "    <tr>\n",
       "      <th>242</th>\n",
       "      <td>YARA ARENA BOSCAYNO TEIXEIRA</td>\n",
       "      <td>MÉDICO CLÍNICO</td>\n",
       "      <td>79</td>\n",
       "      <td>76</td>\n",
       "      <td>03h:03min:19s</td>\n",
       "    </tr>\n",
       "    <tr>\n",
       "      <th>243</th>\n",
       "      <td>YARITZA JAUREGUI GOMEZ</td>\n",
       "      <td>MÉDICO CLÍNICO</td>\n",
       "      <td>37</td>\n",
       "      <td>34</td>\n",
       "      <td>07h:10min:40s</td>\n",
       "    </tr>\n",
       "  </tbody>\n",
       "</table>\n",
       "<p>244 rows × 5 columns</p>\n",
       "</div>"
      ],
      "text/plain": [
       "                              Nome           Especialidade  Quantidade1  \\\n",
       "0           ABIGAIL FERREIRA PIRES              ENFERMEIRO          162   \n",
       "1            ADRIANA DA SILVA REIS              ENFERMEIRO          138   \n",
       "2         AGDA MAYRA SILVA MARTINS              ENFERMEIRO          105   \n",
       "3           ALEX BONANCIM CALAZANS  AUXILIAR DE ESCRITÓRIO           56   \n",
       "4           ALEX GONCALVES DE LIMA              ENFERMEIRO            9   \n",
       "..                             ...                     ...          ...   \n",
       "239         VIVIANY OLIVEIRA SIMAO          MÉDICO CLÍNICO          278   \n",
       "240       VLADIMIR ILLANES SALAZAR          MÉDICO CLÍNICO          472   \n",
       "241  WENNDEL HENRIQUE DANTAS MELLO          MÉDICO CLÍNICO            1   \n",
       "242   YARA ARENA BOSCAYNO TEIXEIRA          MÉDICO CLÍNICO           79   \n",
       "243         YARITZA JAUREGUI GOMEZ          MÉDICO CLÍNICO           37   \n",
       "\n",
       "     Quantidade2               Tempo  \n",
       "0            162       09h:43min:32s  \n",
       "1            137       10h:27min:28s  \n",
       "2            105       05h:35min:24s  \n",
       "3             56       01h:26min:56s  \n",
       "4              9           36min:53s  \n",
       "..           ...                 ...  \n",
       "239          204  01d, 22h:11min:10s  \n",
       "240          456        01d, 17h:51s  \n",
       "241            1           09min:57s  \n",
       "242           76       03h:03min:19s  \n",
       "243           34       07h:10min:40s  \n",
       "\n",
       "[244 rows x 5 columns]"
      ]
     },
     "execution_count": 3,
     "metadata": {},
     "output_type": "execute_result"
    }
   ],
   "source": [
    "df_profissionais"
   ]
  },
  {
   "cell_type": "code",
   "execution_count": 4,
   "metadata": {},
   "outputs": [
    {
     "name": "stderr",
     "output_type": "stream",
     "text": [
      "C:\\Users\\marce\\AppData\\Local\\Temp\\ipykernel_19936\\1892691741.py:14: SettingWithCopyWarning: \n",
      "A value is trying to be set on a copy of a slice from a DataFrame.\n",
      "Try using .loc[row_indexer,col_indexer] = value instead\n",
      "\n",
      "See the caveats in the documentation: https://pandas.pydata.org/pandas-docs/stable/user_guide/indexing.html#returning-a-view-versus-a-copy\n",
      "  df_top10['Nome_Especialidade'] = df_top10['Nome'] + ' (' + df_top10['Especialidade'] + ')'\n"
     ]
    },
    {
     "data": {
      "image/png": "[encoded data removed]",
      "text/plain": [
       "<Figure size 1400x700 with 1 Axes>"
      ]
     },
     "metadata": {},
     "output_type": "display_data"
    }
   ],
   "source": [
    "import pandas as pd\n",
    "import matplotlib.pyplot as plt\n",
    "\n",
    "# Carregar o CSV\n",
    "df = pd.read_csv('profissionais_extraidos.csv', encoding='latin1')\n",
    "\n",
    "# Ordenar decrescente pela quantidade de atendimentos\n",
    "df_sorted = df.sort_values(by='Quantidade1', ascending=False)\n",
    "\n",
    "# Pegar os top 10\n",
    "df_top10 = df_sorted.head(10)\n",
    "\n",
    "# Criar uma coluna para exibir Nome + Especialidade juntos\n",
    "df_top10['Nome_Especialidade'] = df_top10['Nome'] + ' (' + df_top10['Especialidade'] + ')'\n",
    "\n",
    "# Gráfico de barras horizontal\n",
    "plt.figure(figsize=(14,7))\n",
    "plt.barh(df_top10['Nome_Especialidade'], df_top10['Quantidade1'], color='skyblue')\n",
    "plt.xlabel('Quantidade de Atendimentos')\n",
    "plt.title('Top 10 Profissionais por Quantidade de Atendimentos - Janeiro')\n",
    "plt.gca().invert_yaxis()  # Inverter para o maior no topo\n",
    "plt.tight_layout()\n",
    "plt.show()\n"
   ]
  },
  {
   "cell_type": "code",
   "execution_count": 5,
   "metadata": {},
   "outputs": [
    {
     "name": "stdout",
     "output_type": "stream",
     "text": [
      "                                Nome                         Especialidade  \\\n",
      "91            HENRIQUE ALVES GONZAGA                        MÉDICO CLÍNICO   \n",
      "143             LUIZA SILVA SILVEIRA                        MÉDICO CLÍNICO   \n",
      "153                   MARCOS RIBEIRO                        MÉDICO CLÍNICO   \n",
      "47   DIZZAN DALLAS DOS SANTOS BENTES                        MÉDICO CLÍNICO   \n",
      "77        GABRIELA DOS SANTOS MEDINA                        MÉDICO CLÍNICO   \n",
      "116           JOHN RUDY HUALLPA VILA                        MÉDICO CLÍNICO   \n",
      "94          HERBERT MOREIRA MARTINEZ                        MÉDICO CLÍNICO   \n",
      "157       MARIA BEATRIZ PARRA MACEDO                        MÉDICO CLÍNICO   \n",
      "240         VLADIMIR ILLANES SALAZAR                        MÉDICO CLÍNICO   \n",
      "226              TONI LEMOS DA SILVA  MÉDICO ORTOPEDISTA E TRAUMATOLOGISTA   \n",
      "\n",
      "     Quantidade1  \n",
      "91          1282  \n",
      "143         1179  \n",
      "153         1001  \n",
      "47          1001  \n",
      "77           879  \n",
      "116          858  \n",
      "94           834  \n",
      "157          706  \n",
      "240          472  \n",
      "226          459  \n"
     ]
    }
   ],
   "source": [
    "# Filtrar apenas profissionais cuja especialidade contém 'MÉDICO' (case insensitive)\n",
    "df_medicos = df[df['Especialidade'].str.contains('MÉDICO', case=False, na=False)]\n",
    "\n",
    "# Verificar os top 10 médicos com mais atendimentos\n",
    "df_medicos_sorted = df_medicos.sort_values(by='Quantidade1', ascending=False).head(10)\n",
    "\n",
    "print(df_medicos_sorted[['Nome', 'Especialidade', 'Quantidade1']])\n"
   ]
  },
  {
   "cell_type": "code",
   "execution_count": 6,
   "metadata": {},
   "outputs": [
    {
     "data": {
      "application/vnd.microsoft.datawrangler.viewer.v0+json": {
       "columns": [
        {
         "name": "index",
         "rawType": "int64",
         "type": "integer"
        },
        {
         "name": "Nome",
         "rawType": "object",
         "type": "string"
        },
        {
         "name": "Especialidade",
         "rawType": "object",
         "type": "string"
        },
        {
         "name": "Quantidade1",
         "rawType": "int64",
         "type": "integer"
        },
        {
         "name": "Quantidade2",
         "rawType": "int64",
         "type": "integer"
        },
        {
         "name": "Tempo",
         "rawType": "object",
         "type": "string"
        }
       ],
       "conversionMethod": "pd.DataFrame",
       "ref": "938751c2-d116-4604-9106-3ca28062ba4d",
       "rows": [
        [
         "5",
         "ALEXANDRE MOURA OLIVEIRA",
         "MÉDICO CIRURGIÃO GERAL",
         "257",
         "244",
         "21h:39min:50s"
        ],
        [
         "8",
         "ANA MARIA LORONO TERRAZAS",
         "MÉDICO PEDIATRA",
         "201",
         "193",
         "01d, 04h:43min:08s"
        ],
        [
         "11",
         "ANDERSON CESAR PARTATA",
         "MÉDICO ORTOPEDISTA E TRAUMATOLOGISTA",
         "105",
         "105",
         "09h:56min:29s"
        ],
        [
         "12",
         "ANDERSON DABRAMO",
         "MÉDICO CLÍNICO",
         "7",
         "6",
         "01h:15min:06s"
        ],
        [
         "13",
         "ANDERSON KAIO BENTO GIL",
         "MÉDICO CIRURGIÃO GERAL",
         "116",
         "116",
         "14h:51min:28s"
        ],
        [
         "14",
         "ANDREIA STEFANIA CARVALHO DE DEUS",
         "MÉDICO PEDIATRA",
         "55",
         "34",
         "10h:56min:30s"
        ],
        [
         "15",
         "ANGELA CRISSIELA MELO OST",
         "MÉDICO PEDIATRA",
         "9",
         "9",
         "48min:28s"
        ],
        [
         "21",
         "ANTONIO EDUARDO CLEMENTE CIURANA FERNANDEZ",
         "MÉDICO PSIQUIATRA",
         "81",
         "66",
         "10h:21min:59s"
        ],
        [
         "22",
         "AULITERIO LIMA AGUIAR CORREIA",
         "MÉDICO PSIQUIATRA",
         "105",
         "88",
         "01d, 26min:59s"
        ],
        [
         "25",
         "BRUNA GIOVANA MORENO DA SILVA",
         "MÉDICO CIRURGIÃO GERAL",
         "1",
         "1",
         "09min:21s"
        ],
        [
         "28",
         "CARLOS ROBERTO DOS SANTOS",
         "MÉDICO CLÍNICO",
         "21",
         "18",
         "03h:39min:22s"
        ],
        [
         "29",
         "CAROLLINA CAPOROSSI",
         "MÉDICO CLÍNICO",
         "14",
         "12",
         "03h:27min:58s"
        ],
        [
         "30",
         "CECILIA DE FARIA SARDENBERG",
         "MÉDICO CLÍNICO",
         "4",
         "4",
         "42min:01s"
        ],
        [
         "31",
         "CEFORA JORGE DA CUNHA RIBEIRO",
         "MÉDICO PSIQUIATRA",
         "8",
         "7",
         "02h:32min:43s"
        ],
        [
         "40",
         "DANIEL RODRIGUES PEREIRA",
         "MÉDICO CLÍNICO",
         "1",
         "1",
         "02min:46s"
        ],
        [
         "43",
         "DEANDRO DE MATOS COELHO",
         "MÉDICO PEDIATRA",
         "407",
         "375",
         "08d, 12h:04min:36s"
        ],
        [
         "45",
         "DERBY NERY NETO",
         "MÉDICO CLÍNICO",
         "7",
         "4",
         "07h:32min:10s"
        ],
        [
         "46",
         "DIEGO OTAVIO SANTIAGO BARBOZA DA SILVA",
         "MÉDICO PSIQUIATRA",
         "22",
         "19",
         "01d, 55min:44s"
        ],
        [
         "47",
         "DIZZAN DALLAS DOS SANTOS BENTES",
         "MÉDICO CLÍNICO",
         "1001",
         "908",
         "05d, 18h:46min:11s"
        ],
        [
         "48",
         "EDER LUIS DOS SANTOS",
         "MÉDICO PEDIATRA",
         "144",
         "122",
         "02d, 11h:21min:33s"
        ],
        [
         "49",
         "EDGAR GUZMAN GUTIERREZ",
         "MÉDICO PEDIATRA",
         "102",
         "97",
         "08h:43min:58s"
        ],
        [
         "57",
         "ELLTON KIM CAVALCANTI DOS SANTOS",
         "MÉDICO CIRURGIÃO GERAL",
         "1",
         "1",
         "33min:23s"
        ],
        [
         "58",
         "ELLTON KIM CAVALCANTI DOS SANTOS",
         "MÉDICO CLÍNICO",
         "31",
         "29",
         "06h:42min:24s"
        ],
        [
         "59",
         "ELOISA CRISTINA DE CASTRO RECCO",
         "MÉDICO PSIQUIATRA",
         "64",
         "51",
         "09h:19min:22s"
        ],
        [
         "62",
         "EMILLYO CESAR NEVES FERREIRA",
         "MÉDICO ORTOPEDISTA E TRAUMATOLOGISTA",
         "20",
         "20",
         "01h:12min:32s"
        ],
        [
         "67",
         "FABIANA DE LIMA",
         "MÉDICO PSIQUIATRA",
         "56",
         "56",
         "12h:53min:24s"
        ],
        [
         "68",
         "FABIANY LAURENT ALMEIDA VACA",
         "MÉDICO CLÍNICO",
         "56",
         "56",
         "07h:26min:02s"
        ],
        [
         "70",
         "FERNANDA LORETTE GONCALVES DA SILVA",
         "MÉDICO PEDIATRA",
         "21",
         "21",
         "02h:32min:34s"
        ],
        [
         "71",
         "FERNANDO CARVALHO TEIXEIRA",
         "MÉDICO ORTOPEDISTA E TRAUMATOLOGISTA",
         "71",
         "68",
         "07h:12min:46s"
        ],
        [
         "74",
         "FRANCISCO DRUMOND MARCONDES DE MOURA NETO",
         "MÉDICO PSIQUIATRA",
         "220",
         "211",
         "01d, 22h:36min:01s"
        ],
        [
         "76",
         "GABRIELA BARONI DE CAMARGO",
         "MÉDICO PEDIATRA",
         "67",
         "55",
         "12h:59min:05s"
        ],
        [
         "77",
         "GABRIELA DOS SANTOS MEDINA",
         "MÉDICO CLÍNICO",
         "879",
         "797",
         "02d, 19h:17min:24s"
        ],
        [
         "80",
         "GEANE KELLY MORAIS MARQUES",
         "MÉDICO CLÍNICO",
         "80",
         "66",
         "06h:38min:28s"
        ],
        [
         "82",
         "GENILDA GERONIMO DE AMORIM",
         "MÉDICO CLÍNICO",
         "1",
         "1",
         "02min:57s"
        ],
        [
         "83",
         "GERLIN YOSELL CASTELLON CRUZ",
         "MÉDICO PEDIATRA",
         "11",
         "10",
         "02h:10min:51s"
        ],
        [
         "84",
         "GIULIA UGUCIONI GARBELINI",
         "MÉDICO CIRURGIÃO GERAL",
         "58",
         "51",
         "05h:42min:08s"
        ],
        [
         "85",
         "GLAUSYA REIS DUARTE",
         "MÉDICO CLÍNICO",
         "53",
         "46",
         "07h:26min:07s"
        ],
        [
         "89",
         "GUILHERME TAVARES ALVES",
         "MÉDICO CLÍNICO",
         "2",
         "2",
         "35min:45s"
        ],
        [
         "91",
         "HENRIQUE ALVES GONZAGA",
         "MÉDICO CLÍNICO",
         "1282",
         "1144",
         "02d, 23h:47min:42s"
        ],
        [
         "93",
         "HENRIQUE CAVALCANTE MIRANDA",
         "MÉDICO CIRURGIÃO GERAL",
         "87",
         "73",
         "11h:47min:33s"
        ],
        [
         "94",
         "HERBERT MOREIRA MARTINEZ",
         "MÉDICO CLÍNICO",
         "834",
         "780",
         "02d, 14h:16min:30s"
        ],
        [
         "96",
         "IANARA DA SILVA SANTOS",
         "MÉDICO ORTOPEDISTA E TRAUMATOLOGISTA",
         "31",
         "19",
         "02h:56min:37s"
        ],
        [
         "97",
         "ILDEFONSO LUIZ DE FREITAS NETO",
         "MÉDICO CLÍNICO",
         "18",
         "18",
         "04h:23min:32s"
        ],
        [
         "98",
         "INDIRA MEJIAS PARRA",
         "MÉDICO PEDIATRA",
         "23",
         "18",
         "03h:51min:37s"
        ],
        [
         "100",
         "IRIS RAIANE DA SILVA MOREIRA",
         "MÉDICO CLÍNICO",
         "281",
         "274",
         "01d, 04h:01min:53s"
        ],
        [
         "104",
         "IZABEL CRISTINA BRAZAO FROZ",
         "MÉDICO PSIQUIATRA",
         "13",
         "12",
         "02h:29min:08s"
        ],
        [
         "105",
         "JAIME TADASHI NAITO",
         "MÉDICO ORTOPEDISTA E TRAUMATOLOGISTA",
         "299",
         "282",
         "20h:16s"
        ],
        [
         "110",
         "JEAN PIERRE VIVALDO ROCHA FERNANDES",
         "MÉDICO PSIQUIATRA",
         "15",
         "14",
         "03h:51min:07s"
        ],
        [
         "113",
         "JHEYME HORACIO DE SA SILVA",
         "MÉDICO CIRURGIÃO GERAL",
         "95",
         "89",
         "11h:09min:44s"
        ],
        [
         "115",
         "JOB TEIXEIRA DE AGUIAR NETO",
         "MÉDICO PSIQUIATRA",
         "1",
         "1",
         "06min:33s"
        ]
       ],
       "shape": {
        "columns": 5,
        "rows": 117
       }
      },
      "text/html": [
       "<div>\n",
       "<style scoped>\n",
       "    .dataframe tbody tr th:only-of-type {\n",
       "        vertical-align: middle;\n",
       "    }\n",
       "\n",
       "    .dataframe tbody tr th {\n",
       "        vertical-align: top;\n",
       "    }\n",
       "\n",
       "    .dataframe thead th {\n",
       "        text-align: right;\n",
       "    }\n",
       "</style>\n",
       "<table border=\"1\" class=\"dataframe\">\n",
       "  <thead>\n",
       "    <tr style=\"text-align: right;\">\n",
       "      <th></th>\n",
       "      <th>Nome</th>\n",
       "      <th>Especialidade</th>\n",
       "      <th>Quantidade1</th>\n",
       "      <th>Quantidade2</th>\n",
       "      <th>Tempo</th>\n",
       "    </tr>\n",
       "  </thead>\n",
       "  <tbody>\n",
       "    <tr>\n",
       "      <th>5</th>\n",
       "      <td>ALEXANDRE MOURA OLIVEIRA</td>\n",
       "      <td>MÉDICO CIRURGIÃO GERAL</td>\n",
       "      <td>257</td>\n",
       "      <td>244</td>\n",
       "      <td>21h:39min:50s</td>\n",
       "    </tr>\n",
       "    <tr>\n",
       "      <th>8</th>\n",
       "      <td>ANA MARIA LORONO TERRAZAS</td>\n",
       "      <td>MÉDICO PEDIATRA</td>\n",
       "      <td>201</td>\n",
       "      <td>193</td>\n",
       "      <td>01d, 04h:43min:08s</td>\n",
       "    </tr>\n",
       "    <tr>\n",
       "      <th>11</th>\n",
       "      <td>ANDERSON CESAR PARTATA</td>\n",
       "      <td>MÉDICO ORTOPEDISTA E TRAUMATOLOGISTA</td>\n",
       "      <td>105</td>\n",
       "      <td>105</td>\n",
       "      <td>09h:56min:29s</td>\n",
       "    </tr>\n",
       "    <tr>\n",
       "      <th>12</th>\n",
       "      <td>ANDERSON DABRAMO</td>\n",
       "      <td>MÉDICO CLÍNICO</td>\n",
       "      <td>7</td>\n",
       "      <td>6</td>\n",
       "      <td>01h:15min:06s</td>\n",
       "    </tr>\n",
       "    <tr>\n",
       "      <th>13</th>\n",
       "      <td>ANDERSON KAIO BENTO GIL</td>\n",
       "      <td>MÉDICO CIRURGIÃO GERAL</td>\n",
       "      <td>116</td>\n",
       "      <td>116</td>\n",
       "      <td>14h:51min:28s</td>\n",
       "    </tr>\n",
       "    <tr>\n",
       "      <th>...</th>\n",
       "      <td>...</td>\n",
       "      <td>...</td>\n",
       "      <td>...</td>\n",
       "      <td>...</td>\n",
       "      <td>...</td>\n",
       "    </tr>\n",
       "    <tr>\n",
       "      <th>239</th>\n",
       "      <td>VIVIANY OLIVEIRA SIMAO</td>\n",
       "      <td>MÉDICO CLÍNICO</td>\n",
       "      <td>278</td>\n",
       "      <td>204</td>\n",
       "      <td>01d, 22h:11min:10s</td>\n",
       "    </tr>\n",
       "    <tr>\n",
       "      <th>240</th>\n",
       "      <td>VLADIMIR ILLANES SALAZAR</td>\n",
       "      <td>MÉDICO CLÍNICO</td>\n",
       "      <td>472</td>\n",
       "      <td>456</td>\n",
       "      <td>01d, 17h:51s</td>\n",
       "    </tr>\n",
       "    <tr>\n",
       "      <th>241</th>\n",
       "      <td>WENNDEL HENRIQUE DANTAS MELLO</td>\n",
       "      <td>MÉDICO CLÍNICO</td>\n",
       "      <td>1</td>\n",
       "      <td>1</td>\n",
       "      <td>09min:57s</td>\n",
       "    </tr>\n",
       "    <tr>\n",
       "      <th>242</th>\n",
       "      <td>YARA ARENA BOSCAYNO TEIXEIRA</td>\n",
       "      <td>MÉDICO CLÍNICO</td>\n",
       "      <td>79</td>\n",
       "      <td>76</td>\n",
       "      <td>03h:03min:19s</td>\n",
       "    </tr>\n",
       "    <tr>\n",
       "      <th>243</th>\n",
       "      <td>YARITZA JAUREGUI GOMEZ</td>\n",
       "      <td>MÉDICO CLÍNICO</td>\n",
       "      <td>37</td>\n",
       "      <td>34</td>\n",
       "      <td>07h:10min:40s</td>\n",
       "    </tr>\n",
       "  </tbody>\n",
       "</table>\n",
       "<p>117 rows × 5 columns</p>\n",
       "</div>"
      ],
      "text/plain": [
       "                              Nome                         Especialidade  \\\n",
       "5         ALEXANDRE MOURA OLIVEIRA                MÉDICO CIRURGIÃO GERAL   \n",
       "8        ANA MARIA LORONO TERRAZAS                       MÉDICO PEDIATRA   \n",
       "11          ANDERSON CESAR PARTATA  MÉDICO ORTOPEDISTA E TRAUMATOLOGISTA   \n",
       "12                ANDERSON DABRAMO                        MÉDICO CLÍNICO   \n",
       "13         ANDERSON KAIO BENTO GIL                MÉDICO CIRURGIÃO GERAL   \n",
       "..                             ...                                   ...   \n",
       "239         VIVIANY OLIVEIRA SIMAO                        MÉDICO CLÍNICO   \n",
       "240       VLADIMIR ILLANES SALAZAR                        MÉDICO CLÍNICO   \n",
       "241  WENNDEL HENRIQUE DANTAS MELLO                        MÉDICO CLÍNICO   \n",
       "242   YARA ARENA BOSCAYNO TEIXEIRA                        MÉDICO CLÍNICO   \n",
       "243         YARITZA JAUREGUI GOMEZ                        MÉDICO CLÍNICO   \n",
       "\n",
       "     Quantidade1  Quantidade2               Tempo  \n",
       "5            257          244       21h:39min:50s  \n",
       "8            201          193  01d, 04h:43min:08s  \n",
       "11           105          105       09h:56min:29s  \n",
       "12             7            6       01h:15min:06s  \n",
       "13           116          116       14h:51min:28s  \n",
       "..           ...          ...                 ...  \n",
       "239          278          204  01d, 22h:11min:10s  \n",
       "240          472          456        01d, 17h:51s  \n",
       "241            1            1           09min:57s  \n",
       "242           79           76       03h:03min:19s  \n",
       "243           37           34       07h:10min:40s  \n",
       "\n",
       "[117 rows x 5 columns]"
      ]
     },
     "execution_count": 6,
     "metadata": {},
     "output_type": "execute_result"
    }
   ],
   "source": [
    "df_medicos"
   ]
  },
  {
   "cell_type": "code",
   "execution_count": 7,
   "metadata": {},
   "outputs": [
    {
     "data": {
      "image/png": "[encoded data removed]",
      "text/plain": [
       "<Figure size 1400x700 with 1 Axes>"
      ]
     },
     "metadata": {},
     "output_type": "display_data"
    }
   ],
   "source": [
    "import pandas as pd\n",
    "import matplotlib.pyplot as plt\n",
    "\n",
    "# Filtrar apenas profissionais que tenham \"MÉDICO\" na especialidade\n",
    "df_medicos = df[df['Especialidade'].str.contains('MÉDICO', case=False, na=False)].copy()\n",
    "\n",
    "# Ordenar pela quantidade e pegar os top 10\n",
    "df_top10_medicos = df_medicos.sort_values(by='Quantidade1', ascending=False).head(10)\n",
    "\n",
    "# Criar uma nova coluna para o gráfico, juntando nome + especialidade\n",
    "df_top10_medicos['Rotulo'] = df_top10_medicos['Nome'] + ' (' + df_top10_medicos['Especialidade'] + ')'\n",
    "\n",
    "# Plotar gráfico\n",
    "plt.figure(figsize=(14, 7))\n",
    "plt.barh(df_top10_medicos['Rotulo'], df_top10_medicos['Quantidade1'], color='royalblue')\n",
    "plt.xlabel('Quantidade de Atendimentos')\n",
    "plt.title('Top 10 Médicos com Mais Atendimentos (com Especialidade)')\n",
    "plt.gca().invert_yaxis()\n",
    "plt.tight_layout()\n",
    "plt.show()\n"
   ]
  },
  {
   "cell_type": "code",
   "execution_count": 8,
   "metadata": {},
   "outputs": [
    {
     "data": {
      "application/vnd.microsoft.datawrangler.viewer.v0+json": {
       "columns": [
        {
         "name": "index",
         "rawType": "int64",
         "type": "integer"
        },
        {
         "name": "Nome",
         "rawType": "object",
         "type": "string"
        },
        {
         "name": "Especialidade",
         "rawType": "object",
         "type": "string"
        },
        {
         "name": "Quantidade1",
         "rawType": "int64",
         "type": "integer"
        },
        {
         "name": "Quantidade2",
         "rawType": "int64",
         "type": "integer"
        },
        {
         "name": "Tempo",
         "rawType": "object",
         "type": "string"
        }
       ],
       "conversionMethod": "pd.DataFrame",
       "ref": "d849bdcf-594d-466b-86ef-6dea5f9adf0d",
       "rows": [
        [
         "5",
         "ALEXANDRE MOURA OLIVEIRA",
         "MÉDICO CIRURGIÃO GERAL",
         "257",
         "244",
         "21h:39min:50s"
        ],
        [
         "8",
         "ANA MARIA LORONO TERRAZAS",
         "MÉDICO PEDIATRA",
         "201",
         "193",
         "01d, 04h:43min:08s"
        ],
        [
         "11",
         "ANDERSON CESAR PARTATA",
         "MÉDICO ORTOPEDISTA E TRAUMATOLOGISTA",
         "105",
         "105",
         "09h:56min:29s"
        ],
        [
         "12",
         "ANDERSON DABRAMO",
         "MÉDICO CLÍNICO",
         "7",
         "6",
         "01h:15min:06s"
        ],
        [
         "13",
         "ANDERSON KAIO BENTO GIL",
         "MÉDICO CIRURGIÃO GERAL",
         "116",
         "116",
         "14h:51min:28s"
        ],
        [
         "14",
         "ANDREIA STEFANIA CARVALHO DE DEUS",
         "MÉDICO PEDIATRA",
         "55",
         "34",
         "10h:56min:30s"
        ],
        [
         "15",
         "ANGELA CRISSIELA MELO OST",
         "MÉDICO PEDIATRA",
         "9",
         "9",
         "48min:28s"
        ],
        [
         "21",
         "ANTONIO EDUARDO CLEMENTE CIURANA FERNANDEZ",
         "MÉDICO PSIQUIATRA",
         "81",
         "66",
         "10h:21min:59s"
        ],
        [
         "22",
         "AULITERIO LIMA AGUIAR CORREIA",
         "MÉDICO PSIQUIATRA",
         "105",
         "88",
         "01d, 26min:59s"
        ],
        [
         "25",
         "BRUNA GIOVANA MORENO DA SILVA",
         "MÉDICO CIRURGIÃO GERAL",
         "1",
         "1",
         "09min:21s"
        ],
        [
         "28",
         "CARLOS ROBERTO DOS SANTOS",
         "MÉDICO CLÍNICO",
         "21",
         "18",
         "03h:39min:22s"
        ],
        [
         "29",
         "CAROLLINA CAPOROSSI",
         "MÉDICO CLÍNICO",
         "14",
         "12",
         "03h:27min:58s"
        ],
        [
         "30",
         "CECILIA DE FARIA SARDENBERG",
         "MÉDICO CLÍNICO",
         "4",
         "4",
         "42min:01s"
        ],
        [
         "31",
         "CEFORA JORGE DA CUNHA RIBEIRO",
         "MÉDICO PSIQUIATRA",
         "8",
         "7",
         "02h:32min:43s"
        ],
        [
         "40",
         "DANIEL RODRIGUES PEREIRA",
         "MÉDICO CLÍNICO",
         "1",
         "1",
         "02min:46s"
        ],
        [
         "43",
         "DEANDRO DE MATOS COELHO",
         "MÉDICO PEDIATRA",
         "407",
         "375",
         "08d, 12h:04min:36s"
        ],
        [
         "45",
         "DERBY NERY NETO",
         "MÉDICO CLÍNICO",
         "7",
         "4",
         "07h:32min:10s"
        ],
        [
         "46",
         "DIEGO OTAVIO SANTIAGO BARBOZA DA SILVA",
         "MÉDICO PSIQUIATRA",
         "22",
         "19",
         "01d, 55min:44s"
        ],
        [
         "47",
         "DIZZAN DALLAS DOS SANTOS BENTES",
         "MÉDICO CLÍNICO",
         "1001",
         "908",
         "05d, 18h:46min:11s"
        ],
        [
         "48",
         "EDER LUIS DOS SANTOS",
         "MÉDICO PEDIATRA",
         "144",
         "122",
         "02d, 11h:21min:33s"
        ],
        [
         "49",
         "EDGAR GUZMAN GUTIERREZ",
         "MÉDICO PEDIATRA",
         "102",
         "97",
         "08h:43min:58s"
        ],
        [
         "57",
         "ELLTON KIM CAVALCANTI DOS SANTOS",
         "MÉDICO CIRURGIÃO GERAL",
         "1",
         "1",
         "33min:23s"
        ],
        [
         "58",
         "ELLTON KIM CAVALCANTI DOS SANTOS",
         "MÉDICO CLÍNICO",
         "31",
         "29",
         "06h:42min:24s"
        ],
        [
         "59",
         "ELOISA CRISTINA DE CASTRO RECCO",
         "MÉDICO PSIQUIATRA",
         "64",
         "51",
         "09h:19min:22s"
        ],
        [
         "62",
         "EMILLYO CESAR NEVES FERREIRA",
         "MÉDICO ORTOPEDISTA E TRAUMATOLOGISTA",
         "20",
         "20",
         "01h:12min:32s"
        ],
        [
         "67",
         "FABIANA DE LIMA",
         "MÉDICO PSIQUIATRA",
         "56",
         "56",
         "12h:53min:24s"
        ],
        [
         "68",
         "FABIANY LAURENT ALMEIDA VACA",
         "MÉDICO CLÍNICO",
         "56",
         "56",
         "07h:26min:02s"
        ],
        [
         "70",
         "FERNANDA LORETTE GONCALVES DA SILVA",
         "MÉDICO PEDIATRA",
         "21",
         "21",
         "02h:32min:34s"
        ],
        [
         "71",
         "FERNANDO CARVALHO TEIXEIRA",
         "MÉDICO ORTOPEDISTA E TRAUMATOLOGISTA",
         "71",
         "68",
         "07h:12min:46s"
        ],
        [
         "74",
         "FRANCISCO DRUMOND MARCONDES DE MOURA NETO",
         "MÉDICO PSIQUIATRA",
         "220",
         "211",
         "01d, 22h:36min:01s"
        ],
        [
         "76",
         "GABRIELA BARONI DE CAMARGO",
         "MÉDICO PEDIATRA",
         "67",
         "55",
         "12h:59min:05s"
        ],
        [
         "77",
         "GABRIELA DOS SANTOS MEDINA",
         "MÉDICO CLÍNICO",
         "879",
         "797",
         "02d, 19h:17min:24s"
        ],
        [
         "80",
         "GEANE KELLY MORAIS MARQUES",
         "MÉDICO CLÍNICO",
         "80",
         "66",
         "06h:38min:28s"
        ],
        [
         "82",
         "GENILDA GERONIMO DE AMORIM",
         "MÉDICO CLÍNICO",
         "1",
         "1",
         "02min:57s"
        ],
        [
         "83",
         "GERLIN YOSELL CASTELLON CRUZ",
         "MÉDICO PEDIATRA",
         "11",
         "10",
         "02h:10min:51s"
        ],
        [
         "84",
         "GIULIA UGUCIONI GARBELINI",
         "MÉDICO CIRURGIÃO GERAL",
         "58",
         "51",
         "05h:42min:08s"
        ],
        [
         "85",
         "GLAUSYA REIS DUARTE",
         "MÉDICO CLÍNICO",
         "53",
         "46",
         "07h:26min:07s"
        ],
        [
         "89",
         "GUILHERME TAVARES ALVES",
         "MÉDICO CLÍNICO",
         "2",
         "2",
         "35min:45s"
        ],
        [
         "91",
         "HENRIQUE ALVES GONZAGA",
         "MÉDICO CLÍNICO",
         "1282",
         "1144",
         "02d, 23h:47min:42s"
        ],
        [
         "93",
         "HENRIQUE CAVALCANTE MIRANDA",
         "MÉDICO CIRURGIÃO GERAL",
         "87",
         "73",
         "11h:47min:33s"
        ],
        [
         "94",
         "HERBERT MOREIRA MARTINEZ",
         "MÉDICO CLÍNICO",
         "834",
         "780",
         "02d, 14h:16min:30s"
        ],
        [
         "96",
         "IANARA DA SILVA SANTOS",
         "MÉDICO ORTOPEDISTA E TRAUMATOLOGISTA",
         "31",
         "19",
         "02h:56min:37s"
        ],
        [
         "97",
         "ILDEFONSO LUIZ DE FREITAS NETO",
         "MÉDICO CLÍNICO",
         "18",
         "18",
         "04h:23min:32s"
        ],
        [
         "98",
         "INDIRA MEJIAS PARRA",
         "MÉDICO PEDIATRA",
         "23",
         "18",
         "03h:51min:37s"
        ],
        [
         "100",
         "IRIS RAIANE DA SILVA MOREIRA",
         "MÉDICO CLÍNICO",
         "281",
         "274",
         "01d, 04h:01min:53s"
        ],
        [
         "104",
         "IZABEL CRISTINA BRAZAO FROZ",
         "MÉDICO PSIQUIATRA",
         "13",
         "12",
         "02h:29min:08s"
        ],
        [
         "105",
         "JAIME TADASHI NAITO",
         "MÉDICO ORTOPEDISTA E TRAUMATOLOGISTA",
         "299",
         "282",
         "20h:16s"
        ],
        [
         "110",
         "JEAN PIERRE VIVALDO ROCHA FERNANDES",
         "MÉDICO PSIQUIATRA",
         "15",
         "14",
         "03h:51min:07s"
        ],
        [
         "113",
         "JHEYME HORACIO DE SA SILVA",
         "MÉDICO CIRURGIÃO GERAL",
         "95",
         "89",
         "11h:09min:44s"
        ],
        [
         "115",
         "JOB TEIXEIRA DE AGUIAR NETO",
         "MÉDICO PSIQUIATRA",
         "1",
         "1",
         "06min:33s"
        ]
       ],
       "shape": {
        "columns": 5,
        "rows": 117
       }
      },
      "text/html": [
       "<div>\n",
       "<style scoped>\n",
       "    .dataframe tbody tr th:only-of-type {\n",
       "        vertical-align: middle;\n",
       "    }\n",
       "\n",
       "    .dataframe tbody tr th {\n",
       "        vertical-align: top;\n",
       "    }\n",
       "\n",
       "    .dataframe thead th {\n",
       "        text-align: right;\n",
       "    }\n",
       "</style>\n",
       "<table border=\"1\" class=\"dataframe\">\n",
       "  <thead>\n",
       "    <tr style=\"text-align: right;\">\n",
       "      <th></th>\n",
       "      <th>Nome</th>\n",
       "      <th>Especialidade</th>\n",
       "      <th>Quantidade1</th>\n",
       "      <th>Quantidade2</th>\n",
       "      <th>Tempo</th>\n",
       "    </tr>\n",
       "  </thead>\n",
       "  <tbody>\n",
       "    <tr>\n",
       "      <th>5</th>\n",
       "      <td>ALEXANDRE MOURA OLIVEIRA</td>\n",
       "      <td>MÉDICO CIRURGIÃO GERAL</td>\n",
       "      <td>257</td>\n",
       "      <td>244</td>\n",
       "      <td>21h:39min:50s</td>\n",
       "    </tr>\n",
       "    <tr>\n",
       "      <th>8</th>\n",
       "      <td>ANA MARIA LORONO TERRAZAS</td>\n",
       "      <td>MÉDICO PEDIATRA</td>\n",
       "      <td>201</td>\n",
       "      <td>193</td>\n",
       "      <td>01d, 04h:43min:08s</td>\n",
       "    </tr>\n",
       "    <tr>\n",
       "      <th>11</th>\n",
       "      <td>ANDERSON CESAR PARTATA</td>\n",
       "      <td>MÉDICO ORTOPEDISTA E TRAUMATOLOGISTA</td>\n",
       "      <td>105</td>\n",
       "      <td>105</td>\n",
       "      <td>09h:56min:29s</td>\n",
       "    </tr>\n",
       "    <tr>\n",
       "      <th>12</th>\n",
       "      <td>ANDERSON DABRAMO</td>\n",
       "      <td>MÉDICO CLÍNICO</td>\n",
       "      <td>7</td>\n",
       "      <td>6</td>\n",
       "      <td>01h:15min:06s</td>\n",
       "    </tr>\n",
       "    <tr>\n",
       "      <th>13</th>\n",
       "      <td>ANDERSON KAIO BENTO GIL</td>\n",
       "      <td>MÉDICO CIRURGIÃO GERAL</td>\n",
       "      <td>116</td>\n",
       "      <td>116</td>\n",
       "      <td>14h:51min:28s</td>\n",
       "    </tr>\n",
       "    <tr>\n",
       "      <th>...</th>\n",
       "      <td>...</td>\n",
       "      <td>...</td>\n",
       "      <td>...</td>\n",
       "      <td>...</td>\n",
       "      <td>...</td>\n",
       "    </tr>\n",
       "    <tr>\n",
       "      <th>239</th>\n",
       "      <td>VIVIANY OLIVEIRA SIMAO</td>\n",
       "      <td>MÉDICO CLÍNICO</td>\n",
       "      <td>278</td>\n",
       "      <td>204</td>\n",
       "      <td>01d, 22h:11min:10s</td>\n",
       "    </tr>\n",
       "    <tr>\n",
       "      <th>240</th>\n",
       "      <td>VLADIMIR ILLANES SALAZAR</td>\n",
       "      <td>MÉDICO CLÍNICO</td>\n",
       "      <td>472</td>\n",
       "      <td>456</td>\n",
       "      <td>01d, 17h:51s</td>\n",
       "    </tr>\n",
       "    <tr>\n",
       "      <th>241</th>\n",
       "      <td>WENNDEL HENRIQUE DANTAS MELLO</td>\n",
       "      <td>MÉDICO CLÍNICO</td>\n",
       "      <td>1</td>\n",
       "      <td>1</td>\n",
       "      <td>09min:57s</td>\n",
       "    </tr>\n",
       "    <tr>\n",
       "      <th>242</th>\n",
       "      <td>YARA ARENA BOSCAYNO TEIXEIRA</td>\n",
       "      <td>MÉDICO CLÍNICO</td>\n",
       "      <td>79</td>\n",
       "      <td>76</td>\n",
       "      <td>03h:03min:19s</td>\n",
       "    </tr>\n",
       "    <tr>\n",
       "      <th>243</th>\n",
       "      <td>YARITZA JAUREGUI GOMEZ</td>\n",
       "      <td>MÉDICO CLÍNICO</td>\n",
       "      <td>37</td>\n",
       "      <td>34</td>\n",
       "      <td>07h:10min:40s</td>\n",
       "    </tr>\n",
       "  </tbody>\n",
       "</table>\n",
       "<p>117 rows × 5 columns</p>\n",
       "</div>"
      ],
      "text/plain": [
       "                              Nome                         Especialidade  \\\n",
       "5         ALEXANDRE MOURA OLIVEIRA                MÉDICO CIRURGIÃO GERAL   \n",
       "8        ANA MARIA LORONO TERRAZAS                       MÉDICO PEDIATRA   \n",
       "11          ANDERSON CESAR PARTATA  MÉDICO ORTOPEDISTA E TRAUMATOLOGISTA   \n",
       "12                ANDERSON DABRAMO                        MÉDICO CLÍNICO   \n",
       "13         ANDERSON KAIO BENTO GIL                MÉDICO CIRURGIÃO GERAL   \n",
       "..                             ...                                   ...   \n",
       "239         VIVIANY OLIVEIRA SIMAO                        MÉDICO CLÍNICO   \n",
       "240       VLADIMIR ILLANES SALAZAR                        MÉDICO CLÍNICO   \n",
       "241  WENNDEL HENRIQUE DANTAS MELLO                        MÉDICO CLÍNICO   \n",
       "242   YARA ARENA BOSCAYNO TEIXEIRA                        MÉDICO CLÍNICO   \n",
       "243         YARITZA JAUREGUI GOMEZ                        MÉDICO CLÍNICO   \n",
       "\n",
       "     Quantidade1  Quantidade2               Tempo  \n",
       "5            257          244       21h:39min:50s  \n",
       "8            201          193  01d, 04h:43min:08s  \n",
       "11           105          105       09h:56min:29s  \n",
       "12             7            6       01h:15min:06s  \n",
       "13           116          116       14h:51min:28s  \n",
       "..           ...          ...                 ...  \n",
       "239          278          204  01d, 22h:11min:10s  \n",
       "240          472          456        01d, 17h:51s  \n",
       "241            1            1           09min:57s  \n",
       "242           79           76       03h:03min:19s  \n",
       "243           37           34       07h:10min:40s  \n",
       "\n",
       "[117 rows x 5 columns]"
      ]
     },
     "execution_count": 8,
     "metadata": {},
     "output_type": "execute_result"
    }
   ],
   "source": [
    "df_medicos"
   ]
  },
  {
   "cell_type": "code",
   "execution_count": 10,
   "metadata": {},
   "outputs": [],
   "source": [
    "df_medicos[['Nome', 'Especialidade', 'Quantidade1']].to_csv('medicos.csv', index=False, sep=';', encoding='latin1')"
   ]
  },
  {
   "cell_type": "code",
   "execution_count": 11,
   "metadata": {},
   "outputs": [
    {
     "data": {
      "application/vnd.microsoft.datawrangler.viewer.v0+json": {
       "columns": [
        {
         "name": "index",
         "rawType": "int64",
         "type": "integer"
        },
        {
         "name": "Nome",
         "rawType": "object",
         "type": "string"
        },
        {
         "name": "Especialidade",
         "rawType": "object",
         "type": "string"
        },
        {
         "name": "Quantidade1",
         "rawType": "int64",
         "type": "integer"
        },
        {
         "name": "Quantidade2",
         "rawType": "int64",
         "type": "integer"
        },
        {
         "name": "Tempo",
         "rawType": "object",
         "type": "string"
        }
       ],
       "conversionMethod": "pd.DataFrame",
       "ref": "b119af00-5a38-4975-a1c0-817bd20bb7e6",
       "rows": [
        [
         "0",
         "ABIGAIL FERREIRA PIRES",
         "ENFERMEIRO",
         "162",
         "162",
         "09h:43min:32s"
        ],
        [
         "1",
         "ADRIANA DA SILVA REIS",
         "ENFERMEIRO",
         "138",
         "137",
         "10h:27min:28s"
        ],
        [
         "2",
         "AGDA MAYRA SILVA MARTINS",
         "ENFERMEIRO",
         "105",
         "105",
         "05h:35min:24s"
        ],
        [
         "3",
         "ALEX BONANCIM CALAZANS",
         "AUXILIAR DE ESCRITÓRIO",
         "56",
         "56",
         "01h:26min:56s"
        ],
        [
         "4",
         "ALEX GONCALVES DE LIMA",
         "ENFERMEIRO",
         "9",
         "9",
         "36min:53s"
        ],
        [
         "5",
         "ALEXANDRE MOURA OLIVEIRA",
         "MÉDICO CIRURGIÃO GERAL",
         "257",
         "244",
         "21h:39min:50s"
        ],
        [
         "6",
         "ALEXIA CUNHA CHINELLATTO",
         "ASSISTENTE ADMINISTRATIVO",
         "313",
         "309",
         "09h:43min:34s"
        ],
        [
         "7",
         "ALINE VANZELLI LOPES",
         "ENFERMEIRO",
         "35",
         "35",
         "02h:11min:22s"
        ],
        [
         "8",
         "ANA MARIA LORONO TERRAZAS",
         "MÉDICO PEDIATRA",
         "201",
         "193",
         "01d, 04h:43min:08s"
        ],
        [
         "9",
         "ANA PAULA DA SILVA CAVALCANTE",
         "ENFERMEIRO",
         "402",
         "402",
         "16h:57min:26s"
        ],
        [
         "10",
         "ANA PAULA PESSOA",
         "ENFERMEIRO",
         "38",
         "38",
         "02h:02min:34s"
        ],
        [
         "11",
         "ANDERSON CESAR PARTATA",
         "MÉDICO ORTOPEDISTA E TRAUMATOLOGISTA",
         "105",
         "105",
         "09h:56min:29s"
        ],
        [
         "12",
         "ANDERSON DABRAMO",
         "MÉDICO CLÍNICO",
         "7",
         "6",
         "01h:15min:06s"
        ],
        [
         "13",
         "ANDERSON KAIO BENTO GIL",
         "MÉDICO CIRURGIÃO GERAL",
         "116",
         "116",
         "14h:51min:28s"
        ],
        [
         "14",
         "ANDREIA STEFANIA CARVALHO DE DEUS",
         "MÉDICO PEDIATRA",
         "55",
         "34",
         "10h:56min:30s"
        ],
        [
         "15",
         "ANGELA CRISSIELA MELO OST",
         "MÉDICO PEDIATRA",
         "9",
         "9",
         "48min:28s"
        ],
        [
         "16",
         "ANGELICA GONCALVES SILVERIO TEIXEIRA",
         "ENFERMEIRO",
         "5",
         "5",
         "18min:14s"
        ],
        [
         "17",
         "ANGELICA JOVINO TORRES",
         "ENFERMEIRO",
         "421",
         "421",
         "01d, 04h:54min:26s"
        ],
        [
         "18",
         "ANNANDA SOBRAL ARRAES",
         "ENFERMEIRO",
         "46",
         "46",
         "02h:23min:15s"
        ],
        [
         "19",
         "ANNIELI VIEIRA ALMEIDA",
         "ASSISTENTE ADMINISTRATIVO",
         "1203",
         "1187",
         "09d, 09h:09min:07s"
        ],
        [
         "20",
         "ANTONIO CHARLE DE OLIVEIRA TEIXEIRA",
         "ENFERMEIRO",
         "63",
         "63",
         "03h:54min:47s"
        ],
        [
         "21",
         "ANTONIO EDUARDO CLEMENTE CIURANA FERNANDEZ",
         "MÉDICO PSIQUIATRA",
         "81",
         "66",
         "10h:21min:59s"
        ],
        [
         "22",
         "AULITERIO LIMA AGUIAR CORREIA",
         "MÉDICO PSIQUIATRA",
         "105",
         "88",
         "01d, 26min:59s"
        ],
        [
         "23",
         "BERNADETE FATIMA DE OLIVEIRA PINI",
         "ENFERMEIRO",
         "26",
         "26",
         "01h:46min:03s"
        ],
        [
         "24",
         "BIANCA TOMASSONE DOS SANTOS",
         "AUXILIAR DE ESCRITÓRIO",
         "9",
         "9",
         "01s"
        ],
        [
         "25",
         "BRUNA GIOVANA MORENO DA SILVA",
         "MÉDICO CIRURGIÃO GERAL",
         "1",
         "1",
         "09min:21s"
        ],
        [
         "26",
         "BRUNO NIZ DA SILVA",
         "ENFERMEIRO",
         "22",
         "22",
         "01h:24min:52s"
        ],
        [
         "27",
         "CAMILA RIBEIRO ROSSI",
         "ENFERMEIRO",
         "114",
         "114",
         "06h:38min:34s"
        ],
        [
         "28",
         "CARLOS ROBERTO DOS SANTOS",
         "MÉDICO CLÍNICO",
         "21",
         "18",
         "03h:39min:22s"
        ],
        [
         "29",
         "CAROLLINA CAPOROSSI",
         "MÉDICO CLÍNICO",
         "14",
         "12",
         "03h:27min:58s"
        ],
        [
         "30",
         "CECILIA DE FARIA SARDENBERG",
         "MÉDICO CLÍNICO",
         "4",
         "4",
         "42min:01s"
        ],
        [
         "31",
         "CEFORA JORGE DA CUNHA RIBEIRO",
         "MÉDICO PSIQUIATRA",
         "8",
         "7",
         "02h:32min:43s"
        ],
        [
         "32",
         "CHARLENE OLIVEIRA TRINDADE",
         "ENFERMEIRO",
         "590",
         "590",
         "21h:46min:41s"
        ],
        [
         "33",
         "CINTIA GOMES BORBA",
         "ASSISTENTE ADMINISTRATIVO",
         "109",
         "109",
         "02h:11min:40s"
        ],
        [
         "34",
         "CLEITON HENRIQUE EMERICK DE OLIVEIRA",
         "AUXILIAR DE ESCRITÓRIO",
         "1286",
         "1274",
         "84d, 18h:05min:43s"
        ],
        [
         "35",
         "CRISTIAN GONCALVES DE SOUZA",
         "ENFERMEIRO",
         "7",
         "7",
         "18min:39s"
        ],
        [
         "36",
         "CRISTIANE BEZERRA MARTINS",
         "ENFERMEIRO",
         "2",
         "2",
         "0s"
        ],
        [
         "37",
         "CRISTIANE MOREIRA CORTINHAS",
         "ENFERMEIRO",
         "48",
         "48",
         "01h:45min:12s"
        ],
        [
         "38",
         "CRISTINA BARBOSA DA SILVA",
         "ENFERMEIRO",
         "194",
         "194",
         "11h:39min:11s"
        ],
        [
         "39",
         "DANIEL RODRIGUES PEREIRA",
         "ENFERMEIRO",
         "420",
         "420",
         "01d, 01h:03min:37s"
        ],
        [
         "40",
         "DANIEL RODRIGUES PEREIRA",
         "MÉDICO CLÍNICO",
         "1",
         "1",
         "02min:46s"
        ],
        [
         "41",
         "DANIELA DE FREITAS MARQUES",
         "AUXILIAR DE ESCRITÓRIO",
         "119",
         "119",
         "08d, 10h:05min:54s"
        ],
        [
         "42",
         "DAYANA DA SILVA GONCALVES",
         "ENFERMEIRO",
         "1293",
         "1288",
         "01d, 22h:44min:20s"
        ],
        [
         "43",
         "DEANDRO DE MATOS COELHO",
         "MÉDICO PEDIATRA",
         "407",
         "375",
         "08d, 12h:04min:36s"
        ],
        [
         "44",
         "DENISE CAETANO FIGUEIREDO",
         "ENFERMEIRO",
         "78",
         "78",
         "05h:08min:12s"
        ],
        [
         "45",
         "DERBY NERY NETO",
         "MÉDICO CLÍNICO",
         "7",
         "4",
         "07h:32min:10s"
        ],
        [
         "46",
         "DIEGO OTAVIO SANTIAGO BARBOZA DA SILVA",
         "MÉDICO PSIQUIATRA",
         "22",
         "19",
         "01d, 55min:44s"
        ],
        [
         "47",
         "DIZZAN DALLAS DOS SANTOS BENTES",
         "MÉDICO CLÍNICO",
         "1001",
         "908",
         "05d, 18h:46min:11s"
        ],
        [
         "48",
         "EDER LUIS DOS SANTOS",
         "MÉDICO PEDIATRA",
         "144",
         "122",
         "02d, 11h:21min:33s"
        ],
        [
         "49",
         "EDGAR GUZMAN GUTIERREZ",
         "MÉDICO PEDIATRA",
         "102",
         "97",
         "08h:43min:58s"
        ]
       ],
       "shape": {
        "columns": 5,
        "rows": 244
       }
      },
      "text/html": [
       "<div>\n",
       "<style scoped>\n",
       "    .dataframe tbody tr th:only-of-type {\n",
       "        vertical-align: middle;\n",
       "    }\n",
       "\n",
       "    .dataframe tbody tr th {\n",
       "        vertical-align: top;\n",
       "    }\n",
       "\n",
       "    .dataframe thead th {\n",
       "        text-align: right;\n",
       "    }\n",
       "</style>\n",
       "<table border=\"1\" class=\"dataframe\">\n",
       "  <thead>\n",
       "    <tr style=\"text-align: right;\">\n",
       "      <th></th>\n",
       "      <th>Nome</th>\n",
       "      <th>Especialidade</th>\n",
       "      <th>Quantidade1</th>\n",
       "      <th>Quantidade2</th>\n",
       "      <th>Tempo</th>\n",
       "    </tr>\n",
       "  </thead>\n",
       "  <tbody>\n",
       "    <tr>\n",
       "      <th>0</th>\n",
       "      <td>ABIGAIL FERREIRA PIRES</td>\n",
       "      <td>ENFERMEIRO</td>\n",
       "      <td>162</td>\n",
       "      <td>162</td>\n",
       "      <td>09h:43min:32s</td>\n",
       "    </tr>\n",
       "    <tr>\n",
       "      <th>1</th>\n",
       "      <td>ADRIANA DA SILVA REIS</td>\n",
       "      <td>ENFERMEIRO</td>\n",
       "      <td>138</td>\n",
       "      <td>137</td>\n",
       "      <td>10h:27min:28s</td>\n",
       "    </tr>\n",
       "    <tr>\n",
       "      <th>2</th>\n",
       "      <td>AGDA MAYRA SILVA MARTINS</td>\n",
       "      <td>ENFERMEIRO</td>\n",
       "      <td>105</td>\n",
       "      <td>105</td>\n",
       "      <td>05h:35min:24s</td>\n",
       "    </tr>\n",
       "    <tr>\n",
       "      <th>3</th>\n",
       "      <td>ALEX BONANCIM CALAZANS</td>\n",
       "      <td>AUXILIAR DE ESCRITÓRIO</td>\n",
       "      <td>56</td>\n",
       "      <td>56</td>\n",
       "      <td>01h:26min:56s</td>\n",
       "    </tr>\n",
       "    <tr>\n",
       "      <th>4</th>\n",
       "      <td>ALEX GONCALVES DE LIMA</td>\n",
       "      <td>ENFERMEIRO</td>\n",
       "      <td>9</td>\n",
       "      <td>9</td>\n",
       "      <td>36min:53s</td>\n",
       "    </tr>\n",
       "    <tr>\n",
       "      <th>...</th>\n",
       "      <td>...</td>\n",
       "      <td>...</td>\n",
       "      <td>...</td>\n",
       "      <td>...</td>\n",
       "      <td>...</td>\n",
       "    </tr>\n",
       "    <tr>\n",
       "      <th>239</th>\n",
       "      <td>VIVIANY OLIVEIRA SIMAO</td>\n",
       "      <td>MÉDICO CLÍNICO</td>\n",
       "      <td>278</td>\n",
       "      <td>204</td>\n",
       "      <td>01d, 22h:11min:10s</td>\n",
       "    </tr>\n",
       "    <tr>\n",
       "      <th>240</th>\n",
       "      <td>VLADIMIR ILLANES SALAZAR</td>\n",
       "      <td>MÉDICO CLÍNICO</td>\n",
       "      <td>472</td>\n",
       "      <td>456</td>\n",
       "      <td>01d, 17h:51s</td>\n",
       "    </tr>\n",
       "    <tr>\n",
       "      <th>241</th>\n",
       "      <td>WENNDEL HENRIQUE DANTAS MELLO</td>\n",
       "      <td>MÉDICO CLÍNICO</td>\n",
       "      <td>1</td>\n",
       "      <td>1</td>\n",
       "      <td>09min:57s</td>\n",
       "    </tr>\n",
       "    <tr>\n",
       "      <th>242</th>\n",
       "      <td>YARA ARENA BOSCAYNO TEIXEIRA</td>\n",
       "      <td>MÉDICO CLÍNICO</td>\n",
       "      <td>79</td>\n",
       "      <td>76</td>\n",
       "      <td>03h:03min:19s</td>\n",
       "    </tr>\n",
       "    <tr>\n",
       "      <th>243</th>\n",
       "      <td>YARITZA JAUREGUI GOMEZ</td>\n",
       "      <td>MÉDICO CLÍNICO</td>\n",
       "      <td>37</td>\n",
       "      <td>34</td>\n",
       "      <td>07h:10min:40s</td>\n",
       "    </tr>\n",
       "  </tbody>\n",
       "</table>\n",
       "<p>244 rows × 5 columns</p>\n",
       "</div>"
      ],
      "text/plain": [
       "                              Nome           Especialidade  Quantidade1  \\\n",
       "0           ABIGAIL FERREIRA PIRES              ENFERMEIRO          162   \n",
       "1            ADRIANA DA SILVA REIS              ENFERMEIRO          138   \n",
       "2         AGDA MAYRA SILVA MARTINS              ENFERMEIRO          105   \n",
       "3           ALEX BONANCIM CALAZANS  AUXILIAR DE ESCRITÓRIO           56   \n",
       "4           ALEX GONCALVES DE LIMA              ENFERMEIRO            9   \n",
       "..                             ...                     ...          ...   \n",
       "239         VIVIANY OLIVEIRA SIMAO          MÉDICO CLÍNICO          278   \n",
       "240       VLADIMIR ILLANES SALAZAR          MÉDICO CLÍNICO          472   \n",
       "241  WENNDEL HENRIQUE DANTAS MELLO          MÉDICO CLÍNICO            1   \n",
       "242   YARA ARENA BOSCAYNO TEIXEIRA          MÉDICO CLÍNICO           79   \n",
       "243         YARITZA JAUREGUI GOMEZ          MÉDICO CLÍNICO           37   \n",
       "\n",
       "     Quantidade2               Tempo  \n",
       "0            162       09h:43min:32s  \n",
       "1            137       10h:27min:28s  \n",
       "2            105       05h:35min:24s  \n",
       "3             56       01h:26min:56s  \n",
       "4              9           36min:53s  \n",
       "..           ...                 ...  \n",
       "239          204  01d, 22h:11min:10s  \n",
       "240          456        01d, 17h:51s  \n",
       "241            1           09min:57s  \n",
       "242           76       03h:03min:19s  \n",
       "243           34       07h:10min:40s  \n",
       "\n",
       "[244 rows x 5 columns]"
      ]
     },
     "execution_count": 11,
     "metadata": {},
     "output_type": "execute_result"
    }
   ],
   "source": [
    "df_profissionais"
   ]
  },
  {
   "cell_type": "code",
   "execution_count": 12,
   "metadata": {},
   "outputs": [
    {
     "data": {
      "application/vnd.microsoft.datawrangler.viewer.v0+json": {
       "columns": [
        {
         "name": "index",
         "rawType": "int64",
         "type": "integer"
        },
        {
         "name": "Nome",
         "rawType": "object",
         "type": "string"
        },
        {
         "name": "Especialidade",
         "rawType": "object",
         "type": "string"
        },
        {
         "name": "Quantidade1",
         "rawType": "int64",
         "type": "integer"
        },
        {
         "name": "Quantidade2",
         "rawType": "int64",
         "type": "integer"
        },
        {
         "name": "Tempo",
         "rawType": "object",
         "type": "string"
        }
       ],
       "conversionMethod": "pd.DataFrame",
       "ref": "5ce8716f-bd51-42ec-b51b-00e134f99be4",
       "rows": [
        [
         "5",
         "ALEXANDRE MOURA OLIVEIRA",
         "MÉDICO CIRURGIÃO GERAL",
         "257",
         "244",
         "21h:39min:50s"
        ],
        [
         "8",
         "ANA MARIA LORONO TERRAZAS",
         "MÉDICO PEDIATRA",
         "201",
         "193",
         "01d, 04h:43min:08s"
        ],
        [
         "11",
         "ANDERSON CESAR PARTATA",
         "MÉDICO ORTOPEDISTA E TRAUMATOLOGISTA",
         "105",
         "105",
         "09h:56min:29s"
        ],
        [
         "12",
         "ANDERSON DABRAMO",
         "MÉDICO CLÍNICO",
         "7",
         "6",
         "01h:15min:06s"
        ],
        [
         "13",
         "ANDERSON KAIO BENTO GIL",
         "MÉDICO CIRURGIÃO GERAL",
         "116",
         "116",
         "14h:51min:28s"
        ],
        [
         "14",
         "ANDREIA STEFANIA CARVALHO DE DEUS",
         "MÉDICO PEDIATRA",
         "55",
         "34",
         "10h:56min:30s"
        ],
        [
         "15",
         "ANGELA CRISSIELA MELO OST",
         "MÉDICO PEDIATRA",
         "9",
         "9",
         "48min:28s"
        ],
        [
         "21",
         "ANTONIO EDUARDO CLEMENTE CIURANA FERNANDEZ",
         "MÉDICO PSIQUIATRA",
         "81",
         "66",
         "10h:21min:59s"
        ],
        [
         "22",
         "AULITERIO LIMA AGUIAR CORREIA",
         "MÉDICO PSIQUIATRA",
         "105",
         "88",
         "01d, 26min:59s"
        ],
        [
         "25",
         "BRUNA GIOVANA MORENO DA SILVA",
         "MÉDICO CIRURGIÃO GERAL",
         "1",
         "1",
         "09min:21s"
        ],
        [
         "28",
         "CARLOS ROBERTO DOS SANTOS",
         "MÉDICO CLÍNICO",
         "21",
         "18",
         "03h:39min:22s"
        ],
        [
         "29",
         "CAROLLINA CAPOROSSI",
         "MÉDICO CLÍNICO",
         "14",
         "12",
         "03h:27min:58s"
        ],
        [
         "30",
         "CECILIA DE FARIA SARDENBERG",
         "MÉDICO CLÍNICO",
         "4",
         "4",
         "42min:01s"
        ],
        [
         "31",
         "CEFORA JORGE DA CUNHA RIBEIRO",
         "MÉDICO PSIQUIATRA",
         "8",
         "7",
         "02h:32min:43s"
        ],
        [
         "40",
         "DANIEL RODRIGUES PEREIRA",
         "MÉDICO CLÍNICO",
         "1",
         "1",
         "02min:46s"
        ],
        [
         "43",
         "DEANDRO DE MATOS COELHO",
         "MÉDICO PEDIATRA",
         "407",
         "375",
         "08d, 12h:04min:36s"
        ],
        [
         "45",
         "DERBY NERY NETO",
         "MÉDICO CLÍNICO",
         "7",
         "4",
         "07h:32min:10s"
        ],
        [
         "46",
         "DIEGO OTAVIO SANTIAGO BARBOZA DA SILVA",
         "MÉDICO PSIQUIATRA",
         "22",
         "19",
         "01d, 55min:44s"
        ],
        [
         "47",
         "DIZZAN DALLAS DOS SANTOS BENTES",
         "MÉDICO CLÍNICO",
         "1001",
         "908",
         "05d, 18h:46min:11s"
        ],
        [
         "48",
         "EDER LUIS DOS SANTOS",
         "MÉDICO PEDIATRA",
         "144",
         "122",
         "02d, 11h:21min:33s"
        ],
        [
         "49",
         "EDGAR GUZMAN GUTIERREZ",
         "MÉDICO PEDIATRA",
         "102",
         "97",
         "08h:43min:58s"
        ],
        [
         "57",
         "ELLTON KIM CAVALCANTI DOS SANTOS",
         "MÉDICO CIRURGIÃO GERAL",
         "1",
         "1",
         "33min:23s"
        ],
        [
         "58",
         "ELLTON KIM CAVALCANTI DOS SANTOS",
         "MÉDICO CLÍNICO",
         "31",
         "29",
         "06h:42min:24s"
        ],
        [
         "59",
         "ELOISA CRISTINA DE CASTRO RECCO",
         "MÉDICO PSIQUIATRA",
         "64",
         "51",
         "09h:19min:22s"
        ],
        [
         "62",
         "EMILLYO CESAR NEVES FERREIRA",
         "MÉDICO ORTOPEDISTA E TRAUMATOLOGISTA",
         "20",
         "20",
         "01h:12min:32s"
        ],
        [
         "67",
         "FABIANA DE LIMA",
         "MÉDICO PSIQUIATRA",
         "56",
         "56",
         "12h:53min:24s"
        ],
        [
         "68",
         "FABIANY LAURENT ALMEIDA VACA",
         "MÉDICO CLÍNICO",
         "56",
         "56",
         "07h:26min:02s"
        ],
        [
         "70",
         "FERNANDA LORETTE GONCALVES DA SILVA",
         "MÉDICO PEDIATRA",
         "21",
         "21",
         "02h:32min:34s"
        ],
        [
         "71",
         "FERNANDO CARVALHO TEIXEIRA",
         "MÉDICO ORTOPEDISTA E TRAUMATOLOGISTA",
         "71",
         "68",
         "07h:12min:46s"
        ],
        [
         "74",
         "FRANCISCO DRUMOND MARCONDES DE MOURA NETO",
         "MÉDICO PSIQUIATRA",
         "220",
         "211",
         "01d, 22h:36min:01s"
        ],
        [
         "76",
         "GABRIELA BARONI DE CAMARGO",
         "MÉDICO PEDIATRA",
         "67",
         "55",
         "12h:59min:05s"
        ],
        [
         "77",
         "GABRIELA DOS SANTOS MEDINA",
         "MÉDICO CLÍNICO",
         "879",
         "797",
         "02d, 19h:17min:24s"
        ],
        [
         "80",
         "GEANE KELLY MORAIS MARQUES",
         "MÉDICO CLÍNICO",
         "80",
         "66",
         "06h:38min:28s"
        ],
        [
         "82",
         "GENILDA GERONIMO DE AMORIM",
         "MÉDICO CLÍNICO",
         "1",
         "1",
         "02min:57s"
        ],
        [
         "83",
         "GERLIN YOSELL CASTELLON CRUZ",
         "MÉDICO PEDIATRA",
         "11",
         "10",
         "02h:10min:51s"
        ],
        [
         "84",
         "GIULIA UGUCIONI GARBELINI",
         "MÉDICO CIRURGIÃO GERAL",
         "58",
         "51",
         "05h:42min:08s"
        ],
        [
         "85",
         "GLAUSYA REIS DUARTE",
         "MÉDICO CLÍNICO",
         "53",
         "46",
         "07h:26min:07s"
        ],
        [
         "89",
         "GUILHERME TAVARES ALVES",
         "MÉDICO CLÍNICO",
         "2",
         "2",
         "35min:45s"
        ],
        [
         "91",
         "HENRIQUE ALVES GONZAGA",
         "MÉDICO CLÍNICO",
         "1282",
         "1144",
         "02d, 23h:47min:42s"
        ],
        [
         "93",
         "HENRIQUE CAVALCANTE MIRANDA",
         "MÉDICO CIRURGIÃO GERAL",
         "87",
         "73",
         "11h:47min:33s"
        ],
        [
         "94",
         "HERBERT MOREIRA MARTINEZ",
         "MÉDICO CLÍNICO",
         "834",
         "780",
         "02d, 14h:16min:30s"
        ],
        [
         "96",
         "IANARA DA SILVA SANTOS",
         "MÉDICO ORTOPEDISTA E TRAUMATOLOGISTA",
         "31",
         "19",
         "02h:56min:37s"
        ],
        [
         "97",
         "ILDEFONSO LUIZ DE FREITAS NETO",
         "MÉDICO CLÍNICO",
         "18",
         "18",
         "04h:23min:32s"
        ],
        [
         "98",
         "INDIRA MEJIAS PARRA",
         "MÉDICO PEDIATRA",
         "23",
         "18",
         "03h:51min:37s"
        ],
        [
         "100",
         "IRIS RAIANE DA SILVA MOREIRA",
         "MÉDICO CLÍNICO",
         "281",
         "274",
         "01d, 04h:01min:53s"
        ],
        [
         "104",
         "IZABEL CRISTINA BRAZAO FROZ",
         "MÉDICO PSIQUIATRA",
         "13",
         "12",
         "02h:29min:08s"
        ],
        [
         "105",
         "JAIME TADASHI NAITO",
         "MÉDICO ORTOPEDISTA E TRAUMATOLOGISTA",
         "299",
         "282",
         "20h:16s"
        ],
        [
         "110",
         "JEAN PIERRE VIVALDO ROCHA FERNANDES",
         "MÉDICO PSIQUIATRA",
         "15",
         "14",
         "03h:51min:07s"
        ],
        [
         "113",
         "JHEYME HORACIO DE SA SILVA",
         "MÉDICO CIRURGIÃO GERAL",
         "95",
         "89",
         "11h:09min:44s"
        ],
        [
         "115",
         "JOB TEIXEIRA DE AGUIAR NETO",
         "MÉDICO PSIQUIATRA",
         "1",
         "1",
         "06min:33s"
        ]
       ],
       "shape": {
        "columns": 5,
        "rows": 117
       }
      },
      "text/html": [
       "<div>\n",
       "<style scoped>\n",
       "    .dataframe tbody tr th:only-of-type {\n",
       "        vertical-align: middle;\n",
       "    }\n",
       "\n",
       "    .dataframe tbody tr th {\n",
       "        vertical-align: top;\n",
       "    }\n",
       "\n",
       "    .dataframe thead th {\n",
       "        text-align: right;\n",
       "    }\n",
       "</style>\n",
       "<table border=\"1\" class=\"dataframe\">\n",
       "  <thead>\n",
       "    <tr style=\"text-align: right;\">\n",
       "      <th></th>\n",
       "      <th>Nome</th>\n",
       "      <th>Especialidade</th>\n",
       "      <th>Quantidade1</th>\n",
       "      <th>Quantidade2</th>\n",
       "      <th>Tempo</th>\n",
       "    </tr>\n",
       "  </thead>\n",
       "  <tbody>\n",
       "    <tr>\n",
       "      <th>5</th>\n",
       "      <td>ALEXANDRE MOURA OLIVEIRA</td>\n",
       "      <td>MÉDICO CIRURGIÃO GERAL</td>\n",
       "      <td>257</td>\n",
       "      <td>244</td>\n",
       "      <td>21h:39min:50s</td>\n",
       "    </tr>\n",
       "    <tr>\n",
       "      <th>8</th>\n",
       "      <td>ANA MARIA LORONO TERRAZAS</td>\n",
       "      <td>MÉDICO PEDIATRA</td>\n",
       "      <td>201</td>\n",
       "      <td>193</td>\n",
       "      <td>01d, 04h:43min:08s</td>\n",
       "    </tr>\n",
       "    <tr>\n",
       "      <th>11</th>\n",
       "      <td>ANDERSON CESAR PARTATA</td>\n",
       "      <td>MÉDICO ORTOPEDISTA E TRAUMATOLOGISTA</td>\n",
       "      <td>105</td>\n",
       "      <td>105</td>\n",
       "      <td>09h:56min:29s</td>\n",
       "    </tr>\n",
       "    <tr>\n",
       "      <th>12</th>\n",
       "      <td>ANDERSON DABRAMO</td>\n",
       "      <td>MÉDICO CLÍNICO</td>\n",
       "      <td>7</td>\n",
       "      <td>6</td>\n",
       "      <td>01h:15min:06s</td>\n",
       "    </tr>\n",
       "    <tr>\n",
       "      <th>13</th>\n",
       "      <td>ANDERSON KAIO BENTO GIL</td>\n",
       "      <td>MÉDICO CIRURGIÃO GERAL</td>\n",
       "      <td>116</td>\n",
       "      <td>116</td>\n",
       "      <td>14h:51min:28s</td>\n",
       "    </tr>\n",
       "    <tr>\n",
       "      <th>...</th>\n",
       "      <td>...</td>\n",
       "      <td>...</td>\n",
       "      <td>...</td>\n",
       "      <td>...</td>\n",
       "      <td>...</td>\n",
       "    </tr>\n",
       "    <tr>\n",
       "      <th>239</th>\n",
       "      <td>VIVIANY OLIVEIRA SIMAO</td>\n",
       "      <td>MÉDICO CLÍNICO</td>\n",
       "      <td>278</td>\n",
       "      <td>204</td>\n",
       "      <td>01d, 22h:11min:10s</td>\n",
       "    </tr>\n",
       "    <tr>\n",
       "      <th>240</th>\n",
       "      <td>VLADIMIR ILLANES SALAZAR</td>\n",
       "      <td>MÉDICO CLÍNICO</td>\n",
       "      <td>472</td>\n",
       "      <td>456</td>\n",
       "      <td>01d, 17h:51s</td>\n",
       "    </tr>\n",
       "    <tr>\n",
       "      <th>241</th>\n",
       "      <td>WENNDEL HENRIQUE DANTAS MELLO</td>\n",
       "      <td>MÉDICO CLÍNICO</td>\n",
       "      <td>1</td>\n",
       "      <td>1</td>\n",
       "      <td>09min:57s</td>\n",
       "    </tr>\n",
       "    <tr>\n",
       "      <th>242</th>\n",
       "      <td>YARA ARENA BOSCAYNO TEIXEIRA</td>\n",
       "      <td>MÉDICO CLÍNICO</td>\n",
       "      <td>79</td>\n",
       "      <td>76</td>\n",
       "      <td>03h:03min:19s</td>\n",
       "    </tr>\n",
       "    <tr>\n",
       "      <th>243</th>\n",
       "      <td>YARITZA JAUREGUI GOMEZ</td>\n",
       "      <td>MÉDICO CLÍNICO</td>\n",
       "      <td>37</td>\n",
       "      <td>34</td>\n",
       "      <td>07h:10min:40s</td>\n",
       "    </tr>\n",
       "  </tbody>\n",
       "</table>\n",
       "<p>117 rows × 5 columns</p>\n",
       "</div>"
      ],
      "text/plain": [
       "                              Nome                         Especialidade  \\\n",
       "5         ALEXANDRE MOURA OLIVEIRA                MÉDICO CIRURGIÃO GERAL   \n",
       "8        ANA MARIA LORONO TERRAZAS                       MÉDICO PEDIATRA   \n",
       "11          ANDERSON CESAR PARTATA  MÉDICO ORTOPEDISTA E TRAUMATOLOGISTA   \n",
       "12                ANDERSON DABRAMO                        MÉDICO CLÍNICO   \n",
       "13         ANDERSON KAIO BENTO GIL                MÉDICO CIRURGIÃO GERAL   \n",
       "..                             ...                                   ...   \n",
       "239         VIVIANY OLIVEIRA SIMAO                        MÉDICO CLÍNICO   \n",
       "240       VLADIMIR ILLANES SALAZAR                        MÉDICO CLÍNICO   \n",
       "241  WENNDEL HENRIQUE DANTAS MELLO                        MÉDICO CLÍNICO   \n",
       "242   YARA ARENA BOSCAYNO TEIXEIRA                        MÉDICO CLÍNICO   \n",
       "243         YARITZA JAUREGUI GOMEZ                        MÉDICO CLÍNICO   \n",
       "\n",
       "     Quantidade1  Quantidade2               Tempo  \n",
       "5            257          244       21h:39min:50s  \n",
       "8            201          193  01d, 04h:43min:08s  \n",
       "11           105          105       09h:56min:29s  \n",
       "12             7            6       01h:15min:06s  \n",
       "13           116          116       14h:51min:28s  \n",
       "..           ...          ...                 ...  \n",
       "239          278          204  01d, 22h:11min:10s  \n",
       "240          472          456        01d, 17h:51s  \n",
       "241            1            1           09min:57s  \n",
       "242           79           76       03h:03min:19s  \n",
       "243           37           34       07h:10min:40s  \n",
       "\n",
       "[117 rows x 5 columns]"
      ]
     },
     "execution_count": 12,
     "metadata": {},
     "output_type": "execute_result"
    }
   ],
   "source": [
    "df_medicos"
   ]
  }
 ],
 "metadata": {
  "kernelspec": {
   "display_name": "Python 3",
   "language": "python",
   "name": "python3"
  },
  "language_info": {
   "codemirror_mode": {
    "name": "ipython",
    "version": 3
   },
   "file_extension": ".py",
   "mimetype": "text/x-python",
   "name": "python",
   "nbconvert_exporter": "python",
   "pygments_lexer": "ipython3",
   "version": "3.12.1"
  }
 },
 "nbformat": 4,
 "nbformat_minor": 2
}
